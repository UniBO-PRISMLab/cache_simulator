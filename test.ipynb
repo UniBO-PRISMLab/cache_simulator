{
 "cells": [
  {
   "cell_type": "code",
   "execution_count": 4,
   "metadata": {},
   "outputs": [
    {
     "name": "stdout",
     "output_type": "stream",
     "text": [
      "Average Inter-Arrival Time: 1.8087512659250775 seconds\n",
      "Standard Deviation of Inter-Arrival Time: 229.90887613603198 seconds\n"
     ]
    }
   ],
   "source": [
    "import pandas as pd\n",
    "\n",
    "# Load the CSV file into a DataFrame\n",
    "df = pd.read_csv('test_data.csv')\n",
    "\n",
    "# Calculate the time difference between consecutive timestamps\n",
    "df['inter_arrival_time'] = df['timestamp'].diff()\n",
    "\n",
    "# Calculate the average and standard deviation of inter-arrival times\n",
    "avg_inter_arrival_time = df['inter_arrival_time'].mean()\n",
    "std_inter_arrival_time = df['inter_arrival_time'].std()\n",
    "\n",
    "print(\"Average Inter-Arrival Time:\", avg_inter_arrival_time, \"seconds\")\n",
    "print(\"Standard Deviation of Inter-Arrival Time:\", std_inter_arrival_time, \"seconds\")\n"
   ]
  },
  {
   "cell_type": "code",
   "execution_count": 24,
   "metadata": {},
   "outputs": [
    {
     "name": "stdout",
     "output_type": "stream",
     "text": [
      "    user_id  subarea_1  subarea_2  subarea_3  subarea_4 most_common_subarea\n",
      "0         0         68         68        335          3                   3\n",
      "1         1         58          1        135         60                   3\n",
      "2         2         65          0         48         64                   1\n",
      "3         3          1        107        259         64                   3\n",
      "4         4         48         21        263         47                   3\n",
      "..      ...        ...        ...        ...        ...                 ...\n",
      "95       95         53         52         98         51                   3\n",
      "96       96         18         42        324         61                   3\n",
      "97       97         64        120          0         29                   2\n",
      "98       98          0         53        267         83                   3\n",
      "99       99          3          1        111        118                   4\n",
      "\n",
      "[100 rows x 6 columns]\n"
     ]
    }
   ],
   "source": [
    "\n",
    "\n",
    "\n",
    "# Create a pivot table to count the occurrences of user_id and subarea pairs\n",
    "pivot_df = df.pivot_table(index='user_id', columns='subarea', aggfunc='size', fill_value=0)\n",
    "\n",
    "# Reset index to move user_id from index to a regular column\n",
    "pivot_df.reset_index(inplace=True)\n",
    "\n",
    "# Rename columns for clarity\n",
    "pivot_df.columns = ['user_id', 'subarea_1', 'subarea_2', 'subarea_3', 'subarea_4']\n",
    "\n",
    "# Find the column label with the most requests for each user\n",
    "pivot_df['most_common_subarea'] = pivot_df[['subarea_1', 'subarea_2', 'subarea_3', 'subarea_4']].idxmax(axis=1).str.replace('subarea_', '')\n",
    "\n",
    "# Save the pivot DataFrame to a new CSV file\n",
    "pivot_df.to_csv('pivot_table_with_most_common_subarea1.csv', index=False)\n",
    "print(pivot_df)\n"
   ]
  },
  {
   "cell_type": "code",
   "execution_count": 31,
   "metadata": {},
   "outputs": [
    {
     "data": {
      "image/png": "[encoded data removed]",
      "text/plain": [
       "<Figure size 720x432 with 1 Axes>"
      ]
     },
     "metadata": {
      "needs_background": "light"
     },
     "output_type": "display_data"
    }
   ],
   "source": [
    "import pandas as pd\n",
    "import matplotlib.pyplot as plt\n",
    "\n",
    "# Load the CSV file into a DataFrame\n",
    "df = pd.read_csv('edge-nodes-9-period-5-min-req-5.csv')\n",
    "\n",
    "# Convert the timestamp column to datetime\n",
    "df['timestamp'] = pd.to_datetime(df['timestamp'])\n",
    "\n",
    "# Calculate the time differences between consecutive timestamps\n",
    "time_diff = df['timestamp'].diff()\n",
    "\n",
    "# Plot the time differences as a time series\n",
    "plt.figure(figsize=(10, 6))\n",
    "plt.plot(df['timestamp'], time_diff, marker='o')\n",
    "plt.xlabel('Timestamp')\n",
    "plt.ylabel('Time Difference')\n",
    "plt.title('Time Differences as Time Series')\n",
    "plt.xticks(rotation=45)\n",
    "plt.tight_layout()\n",
    "plt.show()\n"
   ]
  },
  {
   "cell_type": "code",
   "execution_count": 25,
   "metadata": {},
   "outputs": [
    {
     "name": "stdout",
     "output_type": "stream",
     "text": [
      "Average of each subarea column:\n",
      "subarea_1     54.69\n",
      "subarea_2     42.21\n",
      "subarea_3    119.79\n",
      "subarea_4     50.59\n",
      "dtype: float64\n"
     ]
    }
   ],
   "source": [
    "column_avgs = pivot_df[['subarea_1', 'subarea_2', 'subarea_3', 'subarea_4']].mean()\n",
    "\n",
    "print(\"Average of each subarea column:\")\n",
    "print(column_avgs)"
   ]
  }
 ],
 "metadata": {
  "kernelspec": {
   "display_name": "Python 3",
   "language": "python",
   "name": "python3"
  },
  "language_info": {
   "codemirror_mode": {
    "name": "ipython",
    "version": 3
   },
   "file_extension": ".py",
   "mimetype": "text/x-python",
   "name": "python",
   "nbconvert_exporter": "python",
   "pygments_lexer": "ipython3",
   "version": "3.10.12"
  },
  "orig_nbformat": 4
 },
 "nbformat": 4,
 "nbformat_minor": 2
}
